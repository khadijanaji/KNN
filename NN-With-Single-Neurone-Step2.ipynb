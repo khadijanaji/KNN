{
 "cells": [
  {
   "cell_type": "code",
   "execution_count": 1,
   "metadata": {},
   "outputs": [],
   "source": [
    "import matplotlib.pyplot as plt\n",
    "import numpy as np\n",
    "from random import seed, random\n",
    "from sklearn.model_selection import train_test_split\n",
    "from tensorflow import keras\n",
    "import tensorflow as tf\n",
    "from keras.models import Sequential\n",
    "from keras.layers import Activation, Dense\n",
    "from sklearn.metrics import confusion_matrix"
   ]
  },
  {
   "cell_type": "markdown",
   "metadata": {},
   "source": [
    "# Atelier 2\n",
    "## Exercice 1\n",
    "### 1- le rôle du Gradient Descent dans un réseau de neurone ?\n",
    "L'algorithme de descente du gradient va permettre de minimiser la fonction de coût. \n",
    "\n",
    "### 2- Comment peut-on utiliser un Gradient Descent dans un réseau de neurone ?\n",
    "Si la fonction que l’on minimise est Lipchitz et strictement convexe alors on montre que la descente de gradient converge vers l’unique minimum. On étudie la convergence de cet algorithme lorsque la fonction convexe est quadratique.\n",
    "\n",
    "## Exercice 2\n",
    "### 1- Quels sont les différents types de cost functions qu’on peut utiliser dans un algorithme d’apprentissage pour faire la classification ?\n",
    "* Mean Squared Error Loss\n",
    "* Mean Absolute Error Loss\n",
    "* Binary Crossentropy Error\n",
    "### 2- Comment peut on choisir une cost function ?\n",
    "le role de cost fonction c'est mesurer les erreurs,alors pour choisir cost fonction en se basant sur le modèle qu'on va travailler avec et aussi la performance de chaque cost fonction. \n",
    "On choisit la Fonction Coût pour calculer la performance du modèle sur les exemples du Dataset à\n",
    "travers l'algorithme de Gradient Descent. Ce dernier utilise la fonction d'erreur pour savoir\n",
    "l'orientation vers la solution optimale.\n",
    "### 3- Soit le programme #program2 donné en annexe"
   ]
  },
  {
   "cell_type": "code",
   "execution_count": 19,
   "metadata": {},
   "outputs": [],
   "source": [
    "\n",
    "# la fonction sigmoid\n",
    "def sigmoid(x):\n",
    "    return 1/(1+np.exp(-x))\n",
    "def f(x):\n",
    "    return -x+5\n",
    "# pour générer data\n",
    "def generateData(n):\n",
    "    \n",
    "    # generate random numbers between 0-1\n",
    "    seed(1)\n",
    "    min=0\n",
    "    max=5\n",
    "    dataset=[]\n",
    "    for _ in range(n):\n",
    "        valueX1 = random()\n",
    "        scaledvalueX1 = min + (valueX1 * (max - min))\n",
    "        valueX2 = random()\n",
    "        scaledvalueX2 = min + (valueX2 * (max - min))\n",
    "        x1=round(scaledvalueX1,1)\n",
    "        x2=round(scaledvalueX2,1)\n",
    "        y0=f(x1)\n",
    "        cl=0\n",
    "        if(x2>y0):\n",
    "            cl=1\n",
    "        dataset.append([x1,x2,cl])\n",
    "    return dataset\n",
    "# program 2\n",
    "lr=0.001\n",
    "n_iters=1000\n",
    "def fit(X,y):\n",
    "    bias=0\n",
    "    W=np.array([0.,0.])\n",
    "    n_samples,n_features=X.shape\n",
    "    for i in range(n_iters):\n",
    "        linear_model=np.dot(X,W)+bias\n",
    "        y_predicted=sigmoid(linear_model)\n",
    "        dW=(1/n_samples)*np.dot(X.T,(y_predicted-y))\n",
    "        dbias=(1/n_samples)*np.sum(y_predicted-y)\n",
    "        W-=lr*dW #ligne12\n",
    "        bias-=lr*dbias #ligne13\n",
    "    return bias,W"
   ]
  },
  {
   "cell_type": "markdown",
   "metadata": {},
   "source": [
    "#### 3-1- Quelle est la cost function à minimiser\n",
    "La fonction de cout utilisée dans l'algorithme est Cross entropy\n",
    "#### 3-2- Quelles sont les modifications à apporter au code source pour minimiser Mean Absolute Error"
   ]
  },
  {
   "cell_type": "code",
   "execution_count": 20,
   "metadata": {},
   "outputs": [],
   "source": [
    "\n",
    "def fitMAE(X,y):\n",
    "    bias=0\n",
    "    W=np.array([0.,0.])\n",
    "    n_samples,n_features=X.shape\n",
    "    for i in range(n_iters):\n",
    "        linear_model=np.dot(X,W)+bias\n",
    "        y_predicted=sigmoid(linear_model)\n",
    "        # mean absolute error\n",
    "        mae=(1/n_samples)*np.sum(np.abs(y-y_predicted))\n",
    "        # dw\n",
    "        dW=(-1/n_samples)*np.dot(X.T,y_predicted*(1-y_predicted))\n",
    "        # dbias\n",
    "        dbias=(-1/n_samples)*np.sum(y_predicted*(1-y_predicted))\n",
    "        W-=lr*dW #ligne12 \n",
    "        bias-=lr*dbias #ligne13 \n",
    "    return bias,W"
   ]
  },
  {
   "cell_type": "markdown",
   "metadata": {},
   "source": [
    "### 3-3- Quelles sont les modifications à apporter au code source pour minimiser binary_crossentropy !!\n",
    "Cet algorithme n'a besoin pas des modifications"
   ]
  },
  {
   "cell_type": "code",
   "execution_count": 21,
   "metadata": {},
   "outputs": [],
   "source": [
    "lr=0.001\n",
    "n_iters=1000\n",
    "def fitMSE(X,y):\n",
    "    bias=0\n",
    "    W=np.array([0.,0.])\n",
    "    n_samples,n_features=X.shape\n",
    "    for i in range(n_iters):\n",
    "        linear_model=np.dot(X,W)+bias\n",
    "        y_predicted=sigmoid(linear_model)\n",
    "        # Mean Squared Error\n",
    "        mae=(1/n_samples)*np.sum((y-y_predicted)**2)\n",
    "        # dw\n",
    "        dW=(-2/n_samples)*np.dot(X.T,y_predicted*(1-y_predicted)*(y-y_predicted))\n",
    "        # dbias\n",
    "        dbias=(-2/n_samples)*np.sum(y_predicted*(1-y_predicted)*(y-y_predicted))\n",
    "        W-=lr*dW #ligne12 \n",
    "        bias-=lr*dbias #ligne13 \n",
    "    return bias,W\n"
   ]
  },
  {
   "cell_type": "markdown",
   "metadata": {},
   "source": [
    "## Exercice 3\n",
    "### 1- À l’aide du programme #program1 de l’annexe de l’atelier précédent, générer 100 enregistrements."
   ]
  },
  {
   "cell_type": "code",
   "execution_count": 22,
   "metadata": {},
   "outputs": [],
   "source": [
    "dataset=generateData(100)\n",
    "dataset=np.array(dataset)\n",
    "X=dataset[:,:2]\n",
    "y=dataset[:,2]\n",
    "y=y.astype(int)\n",
    "X_train,X_test,y_train,y_test=train_test_split(X,y,test_size=0.2,random_state=25)"
   ]
  },
  {
   "cell_type": "markdown",
   "metadata": {},
   "source": [
    "### 2- Tracer les données dans un graphe"
   ]
  },
  {
   "cell_type": "code",
   "execution_count": 23,
   "metadata": {},
   "outputs": [
    {
     "data": {
      "image/png": "[encoded data removed]",
      "text/plain": [
       "<Figure size 432x288 with 1 Axes>"
      ]
     },
     "metadata": {
      "needs_background": "light"
     },
     "output_type": "display_data"
    }
   ],
   "source": [
    "def plotData(dataset):\n",
    "    c0=dataset[:,2]==0\n",
    "    c1=dataset[:,2]==1\n",
    "    XD1=dataset[:,0][c0]\n",
    "    YD1=dataset[:,1][c0]\n",
    "    XD2=dataset[:,0][c1]\n",
    "    YD2=dataset[:,1][c1]\n",
    "    plt.plot(XD1,YD1, 'gD')\n",
    "    plt.plot(XD2,YD2, 'bo')\n",
    "\n",
    "plotData(dataset)"
   ]
  },
  {
   "cell_type": "markdown",
   "metadata": {},
   "source": [
    "### Soit le programme #program2 en annexe,\n",
    "### 1. Modifier le code source de manière à afficher les éléments suivants à chaque 10000 itérations\n",
    "* a. Accuracy\n",
    "* b. Loss value (binary_crossentropy)\n",
    "* c. W, bias\n",
    "* d. L’état du modèle (ligne séparatrice) sous format de graphe comme montré dans l’aperçu ci-dessous\n",
    "* e. Mettre en évidence les enregistrements mal classés (surlignés en rouge)"
   ]
  },
  {
   "cell_type": "code",
   "execution_count": 24,
   "metadata": {},
   "outputs": [],
   "source": [
    "# accuracy\n",
    "def calcul_accuracy(y,y_pred):\n",
    "    same=0\n",
    "    all=len(y)\n",
    "    for i,j in zip(y,y_pred):\n",
    "        if i==j:\n",
    "            same=same+1\n",
    "    return same/all\n"
   ]
  },
  {
   "cell_type": "code",
   "execution_count": 25,
   "metadata": {},
   "outputs": [],
   "source": [
    "# calculer la prediction :\n",
    "def predict(bias,W,X):\n",
    "    linear_model=np.dot(X,W)+bias\n",
    "    y_predicted=sigmoid(linear_model)\n",
    "    y_predicted_cls=[1 if i>0.5 else 0 for i in y_predicted]\n",
    "    return y_predicted_cls"
   ]
  },
  {
   "cell_type": "code",
   "execution_count": 29,
   "metadata": {},
   "outputs": [],
   "source": [
    "# le cas d'une seule itération\n",
    "lr=0.001\n",
    "n_iters=1\n",
    "def fit(X,y):\n",
    "    bias=0\n",
    "    W=np.array([0.,0.])\n",
    "    accuracy=[]\n",
    "    n_samples,n_features=X.shape\n",
    "    for i in range(n_iters):\n",
    "        linear_model=np.dot(X,W)+bias\n",
    "        y_predicted=sigmoid(linear_model)\n",
    "        # accuracy\n",
    "        accuracy=calcul_accuracy(y,predict(bias,W,X))\n",
    "        # Loss value (binary_crossentropy)\n",
    "        log_loss=(-1/n_samples)*np.sum(y*np.log(y_predicted)+(1-y)*np.log(1-y_predicted))\n",
    "        dW=(1/n_samples)*np.dot(X.T,(y_predicted-y))\n",
    "        dbias=(1/n_samples)*np.sum(y_predicted-y)\n",
    "        # W, bias\n",
    "        W-=lr*dW #ligne12\n",
    "        bias-=lr*dbias #ligne13\n",
    "\n",
    "    return bias,W,log_loss,accuracy\n"
   ]
  },
  {
   "cell_type": "code",
   "execution_count": 30,
   "metadata": {},
   "outputs": [],
   "source": [
    "bias,W,log_loss,accuracy=fit(X,y)\n",
    "#log_loss,accuracy"
   ]
  },
  {
   "cell_type": "code",
   "execution_count": 33,
   "metadata": {},
   "outputs": [
    {
     "name": "stdout",
     "output_type": "stream",
     "text": [
      "Iteration :1, ( -8e-05 , [0.000265  0.0001785] )\n"
     ]
    },
    {
     "data": {
      "image/png": "[encoded data removed]",
      "text/plain": [
       "<Figure size 432x288 with 1 Axes>"
      ]
     },
     "metadata": {
      "needs_background": "light"
     },
     "output_type": "display_data"
    }
   ],
   "source": [
    "def g(bias,w1,w2,x):\n",
    "    return (-bias/w2)-(w1/w2)*x\n",
    "\n",
    "def plotData(dataset,W,bias):\n",
    "    c0=dataset[:,2]==0\n",
    "    c1=dataset[:,2]==1\n",
    "    XD1=dataset[:,0][c0]\n",
    "    YD1=dataset[:,1][c0]\n",
    "    XD2=dataset[:,0][c1]\n",
    "    YD2=dataset[:,1][c1]\n",
    "    plt.plot(XD1,YD1, 'gD')\n",
    "    plt.plot(XD2,YD2, 'bo')\n",
    "    #L’état du modèle (ligne séparatrice) sous format de graphe \n",
    "    w1=W[0]\n",
    "    w2=W[1]\n",
    "    plt.plot([0,g(bias,w1,w2,0)],[5,g(bias,w1,w2,5)])\n",
    "    for i,j in zip(XD1,YD1):\n",
    "        if g(bias,w1,w2,i) <= j:\n",
    "            plt.plot(i,j,\"rx\")\n",
    "plotData(dataset,W,bias)\n",
    "print(\"Iteration :{}, (\".format(n_iters),bias,\",\",W,\")\")"
   ]
  },
  {
   "cell_type": "code",
   "execution_count": 34,
   "metadata": {},
   "outputs": [
    {
     "name": "stdout",
     "output_type": "stream",
     "text": [
      "Iteration :10000, ( -1.2261241901700848 , [0.35899885 0.19449662] )\n"
     ]
    },
    {
     "data": {
      "image/png": "[encoded data removed]",
      "text/plain": [
       "<Figure size 432x288 with 1 Axes>"
      ]
     },
     "metadata": {
      "needs_background": "light"
     },
     "output_type": "display_data"
    }
   ],
   "source": [
    "# 10000 itérations\n",
    "lr=0.001\n",
    "n_iters=10000\n",
    "bias,W,log_loss,accuracy=fit(X,y)\n",
    "plotData(dataset,W,bias)\n",
    "n_iters,bias,W,log_loss,accuracy\n",
    "print(\"Iteration :{}, (\".format(n_iters),bias,\",\",W,\")\")"
   ]
  },
  {
   "cell_type": "code",
   "execution_count": 35,
   "metadata": {},
   "outputs": [
    {
     "name": "stdout",
     "output_type": "stream",
     "text": [
      "Iteration :70000, ( -4.783090282378295 , [0.98832585 0.87716677] )\n"
     ]
    },
    {
     "data": {
      "image/png": "[encoded data removed]",
      "text/plain": [
       "<Figure size 432x288 with 1 Axes>"
      ]
     },
     "metadata": {
      "needs_background": "light"
     },
     "output_type": "display_data"
    }
   ],
   "source": [
    "# 70000 itérations\n",
    "lr=0.001\n",
    "n_iters=70000\n",
    "bias,W,log_loss,accuracy=fit(X,y)\n",
    "plotData(dataset,W,bias)\n",
    "n_iters,bias,W,log_loss,accuracy\n",
    "print(\"Iteration :{}, (\".format(n_iters),bias,\",\",W,\")\")"
   ]
  },
  {
   "cell_type": "code",
   "execution_count": 36,
   "metadata": {},
   "outputs": [
    {
     "name": "stdout",
     "output_type": "stream",
     "text": [
      "Iteration :90000, (-5.474611307075759, [1.11583232 1.01026215])\n"
     ]
    },
    {
     "data": {
      "image/png": "[encoded data removed]",
      "text/plain": [
       "<Figure size 432x288 with 1 Axes>"
      ]
     },
     "metadata": {
      "needs_background": "light"
     },
     "output_type": "display_data"
    }
   ],
   "source": [
    "# 90000 itérations\n",
    "lr=0.001\n",
    "n_iters=90000\n",
    "bias,W,log_loss,accuracy=fit(X,y)\n",
    "plotData(dataset,W,bias)\n",
    "n_iters,bias,W,log_loss,accuracy\n",
    "print(\"Iteration :{}, ({}, {})\".format(n_iters,bias,W))"
   ]
  },
  {
   "cell_type": "markdown",
   "metadata": {},
   "source": [
    "### 2. Comparer le résultat trouvé avec celui trouvé en 2.7) de l’exercice 4 de l’atelier précédent\n",
    "On remarque que nous avons obtenu le meme résultat."
   ]
  },
  {
   "cell_type": "code",
   "execution_count": null,
   "metadata": {},
   "outputs": [],
   "source": []
  }
 ],
 "metadata": {
  "kernelspec": {
   "display_name": "Python 3",
   "language": "python",
   "name": "python3"
  },
  "language_info": {
   "codemirror_mode": {
    "name": "ipython",
    "version": 3
   },
   "file_extension": ".py",
   "mimetype": "text/x-python",
   "name": "python",
   "nbconvert_exporter": "python",
   "pygments_lexer": "ipython3",
   "version": "3.8.3"
  }
 },
 "nbformat": 4,
 "nbformat_minor": 4
}
