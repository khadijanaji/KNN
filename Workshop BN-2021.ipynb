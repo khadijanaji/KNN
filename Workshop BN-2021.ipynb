{
 "cells": [
  {
   "cell_type": "markdown",
   "metadata": {},
   "source": [
    "# Atelier:Naive Bayes Algorithm\n",
    "## Exercice 1 : Concepts de base\n",
    "### 1. Donner une brève description au classifieur Naive Bayes\n",
    "* Le classifieur Naive Bayes:est un algorithme simple, puissant et populaire pour faire la classification\n",
    "* C'est un approche probabiliste basée sur les probabilités conditionnelles (règle de Bayes)\n",
    "### 2. Expliquer comment passer de la règle de Bayes au classifieur Naive Bayes\n",
    "Les classificateurs de Naïve Bayes sont une famille d’algorithmes reposant sur le principe commun selon lequel la valeur d’une fonctionnalité spécifique est indépendante de la valeur de toute autre fonctionnalité. Ils nous permettent de prédire la probabilité qu’un événement se produise en fonction de conditions que nous connaissons pour les événements en question. Le nom vient du théorème de Bayes, qui peut être écrit mathématiquement comme suit:\n",
    "\n",
    "P(A∣B)=P(B∣A)P(A)P(B)\n",
    "\n",
    "avec A et B sont les événements et P(B) supérieure strict à 0.\n",
    "### 3. Quels sont les types de Naive Bayes ? quand utiliser chaque type ?\n",
    "Il existe trois populaires types d’algorithmes de Naive bayes:\n",
    "* Bernoulli Naive Bayes: pour les features binaires (binary features)\n",
    "* Multinomial Naive Bayes: pour les features catégorielles (categorical features)\n",
    "* Gaussian Naive bayes: pour les features avec une distribution normale (normally distributed features)\n",
    "### 4. Donner quelques cas d’utilisation de Naive Bayes\n",
    "Utilisé dans plusieurs domaines: spam filtering, documents classification, sentiment prediction, weather prediction…\n",
    "### 5. Pourquoi le classifieur Naive Bayes est considéré comme étant Naive ?\n",
    "car il suppose que l'existence d'une caractéristique pour une classe, est indépendante de l'existence d'autres caractéristiques.\n",
    "aussi il repose sur le maximum de vraisemblance\n",
    "### 6. Pourquoi Naive Bayes est considéré comme étant un « leazy learner »\n",
    "car il y a pas de phase d’apprentissage\n",
    "### 7. Quelles sont les principales faiblesses de Naive Bayes ?\n",
    "Dans plusieurs cas, les caractéristiques dependent les uns aux autres, ceci peut entraver sa performance\n",
    "### 8. Présenter les étapes pour mettre en œuvre un classifieur Naive Bayes\n",
    "* Etape 1 : Construction du modèle à partir de l’ensemble d’apprentissage (training set)\n",
    "* Etape 2 : Evaluation de la qualité/précision du classifieur\n",
    "* Etape 3 : Utilisation du modèle pour la classification de nouvelles instances\n"
   ]
  },
  {
   "cell_type": "code",
   "execution_count": null,
   "metadata": {},
   "outputs": [],
   "source": [
    "## Exercice 2 :\n",
    "### 1. Quel est le classifieur Naive Bayes à utiliser pour le dataset ci-dessus ?\n",
    "* Bernoulli Naive Bayes\n",
    "### 2. En utilisant le classifieur Naive Bayes adéquat, Quelle est la classe que peut avoir x=00111\n",
    "\n",
    "### 3. Écrire un code source qui permet de calculer les probabilités nécessaires\n"
   ]
  }
 ],
 "metadata": {
  "kernelspec": {
   "display_name": "Python 3",
   "language": "python",
   "name": "python3"
  },
  "language_info": {
   "codemirror_mode": {
    "name": "ipython",
    "version": 3
   },
   "file_extension": ".py",
   "mimetype": "text/x-python",
   "name": "python",
   "nbconvert_exporter": "python",
   "pygments_lexer": "ipython3",
   "version": "3.8.3"
  }
 },
 "nbformat": 4,
 "nbformat_minor": 4
}
