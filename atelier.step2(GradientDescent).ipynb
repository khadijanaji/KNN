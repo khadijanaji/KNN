{
 "cells": [
  {
   "cell_type": "code",
   "execution_count": 3,
   "metadata": {},
   "outputs": [],
   "source": [
    "import numpy as np\n",
    "X=np.array([0,1,2,3,4,5,6,7,8,9])\n",
    "y=np.array([0,1,2,3,4,5,6,7,8,9])\n"
   ]
  },
  {
   "cell_type": "code",
   "execution_count": 4,
   "metadata": {},
   "outputs": [],
   "source": [
    "def gradientDescent(X,y):\n",
    "    n_samples=len(y)\n",
    "    learning_rate=0.01\n",
    "    n_iterations=10000\n",
    "    bias=0\n",
    "    w=0 #ligne 6\n",
    "    for _ in range(n_iterations):\n",
    "        y_predicted=w*X+bias #ligne 8\n",
    "        d_w=(2/n_samples)*np.sum(X*(y_predicted-y)) #ligne 9\n",
    "        d_bias=(2/n_samples)*np.sum( (y_predicted-y)) #ligne 10\n",
    "        w=w- learning_rate*d_w #ligne 11\n",
    "        bias=bias-learning_rate*d_bias #ligne 12\n",
    "    return bias,w\n",
    "bias,w=gradientDescent(X,y)"
   ]
  },
  {
   "cell_type": "code",
   "execution_count": 5,
   "metadata": {},
   "outputs": [
    {
     "data": {
      "text/plain": [
       "(1.1093020463851513e-15, 0.9999999999999998)"
      ]
     },
     "execution_count": 5,
     "metadata": {},
     "output_type": "execute_result"
    }
   ],
   "source": [
    "bias,w"
   ]
  },
  {
   "cell_type": "code",
   "execution_count": 6,
   "metadata": {},
   "outputs": [
    {
     "data": {
      "text/plain": [
       "array([[0],\n",
       "       [1],\n",
       "       [2],\n",
       "       [3],\n",
       "       [4],\n",
       "       [5],\n",
       "       [6],\n",
       "       [7],\n",
       "       [8],\n",
       "       [9]])"
      ]
     },
     "execution_count": 6,
     "metadata": {},
     "output_type": "execute_result"
    }
   ],
   "source": [
    "np.array([0,1,2,3,4,5,6,7,8,9]).reshape(-1,1)"
   ]
  },
  {
   "cell_type": "code",
   "execution_count": 9,
   "metadata": {},
   "outputs": [
    {
     "data": {
      "text/plain": [
       "array([0.5, 0.5, 0.5, 0.5, 0.5, 0.5, 0.5, 0.5, 0.5, 0.5])"
      ]
     },
     "execution_count": 9,
     "metadata": {},
     "output_type": "execute_result"
    }
   ],
   "source": [
    "X=np.array([0,1,2,3,4,5,6,7,8,9])\n",
    "bias=0\n",
    "W=np.zeros(10)\n",
    "def Sigmoid(X):\n",
    "    return (1 / (1 + np.exp(-bias-W*X)))\n",
    "\n",
    "Sigmoid(X)"
   ]
  },
  {
   "cell_type": "code",
   "execution_count": 10,
   "metadata": {},
   "outputs": [],
   "source": [
    "def gradientDescent(X,y):\n",
    "    n_samples,n_features=X.shape\n",
    "    learning_rate=0.001\n",
    "    n_iterations=500\n",
    "    bias=0\n",
    "    W=np.zeros(n_features) #ligne 6\n",
    "    for _ in range(n_iterations):\n",
    "    \n",
    "        y_predicted=Sigmoid(X) #ligne 8\n",
    "        d_W=(2/n_samples)*np.dot(X.T,(y_predicted-y)) #ligne 9\n",
    "        d_bias=(2/n_samples)*np.sum(y_predicted-y) #ligne 10\n",
    "        W-= learning_rate *d_W #ligne 11\n",
    "        bias-= learning_rate *d_bias #ligne 12\n",
    "    return bias,W"
   ]
  },
  {
   "cell_type": "code",
   "execution_count": 11,
   "metadata": {},
   "outputs": [
    {
     "data": {
      "text/plain": [
       "(0, 0.9999999999999998)"
      ]
     },
     "execution_count": 11,
     "metadata": {},
     "output_type": "execute_result"
    }
   ],
   "source": [
    "bias,w"
   ]
  },
  {
   "cell_type": "code",
   "execution_count": null,
   "metadata": {},
   "outputs": [],
   "source": []
  }
 ],
 "metadata": {
  "kernelspec": {
   "display_name": "Python 3",
   "language": "python",
   "name": "python3"
  },
  "language_info": {
   "codemirror_mode": {
    "name": "ipython",
    "version": 3
   },
   "file_extension": ".py",
   "mimetype": "text/x-python",
   "name": "python",
   "nbconvert_exporter": "python",
   "pygments_lexer": "ipython3",
   "version": "3.8.3"
  }
 },
 "nbformat": 4,
 "nbformat_minor": 4
}
