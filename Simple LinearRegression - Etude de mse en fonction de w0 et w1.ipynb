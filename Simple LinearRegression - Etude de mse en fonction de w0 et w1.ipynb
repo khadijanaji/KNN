{
 "cells": [
  {
   "cell_type": "code",
   "execution_count": 41,
   "metadata": {},
   "outputs": [
    {
     "name": "stdout",
     "output_type": "stream",
     "text": [
      "y_predicted:[0 0 0 0]\n"
     ]
    }
   ],
   "source": [
    "#2.a.dataset1 \n",
    "import numpy as np\n",
    "X=np.array([1,2,3,4])\n",
    "y_real=np.array([1,2,3,4])\n",
    "#2.a.dataset1 y_predicted pour (w0=0,w1=0)\n",
    "def findY_predicted(X,w1):\n",
    "    w0=0\n",
    "    y_predicted=w1*X+w0\n",
    "    print(\"y_predicted:{}\".format(y_predicted))\n",
    "findY_predicted(X,0)\n"
   ]
  },
  {
   "cell_type": "code",
   "execution_count": 44,
   "metadata": {},
   "outputs": [
    {
     "name": "stdout",
     "output_type": "stream",
     "text": [
      "y_predicted:[0.5 1.  1.5 2. ]\n"
     ]
    }
   ],
   "source": [
    "#2.a.dataset1 y_predicted pour (w0=0,w1=0.5)\n",
    "findY_predicted(X,0.5)"
   ]
  },
  {
   "cell_type": "code",
   "execution_count": 45,
   "metadata": {},
   "outputs": [
    {
     "name": "stdout",
     "output_type": "stream",
     "text": [
      "y_predicted:[1 2 3 4]\n"
     ]
    }
   ],
   "source": [
    "#2.a.dataset1 y_predicted pour (w0=0,w1=1)\n",
    "findY_predicted(X,1)"
   ]
  },
  {
   "cell_type": "code",
   "execution_count": 46,
   "metadata": {},
   "outputs": [
    {
     "name": "stdout",
     "output_type": "stream",
     "text": [
      "mse: 7.5\n"
     ]
    }
   ],
   "source": [
    "#2.b.le calcul de mse pour (w0=0,w1=0) basé sur ma propre fonction\n",
    "def find_mse(X,w1):\n",
    "    w0=0 #initialization\n",
    "    y_predicted=w1*X+w0\n",
    "    mean_squared_error=(1/X.size)*np.sum(np.square(y_predicted-y_real))\n",
    "    return print(\"mse: {}\".format(mean_squared_error))\n",
    "        \n",
    "find_mse(X,0)"
   ]
  },
  {
   "cell_type": "code",
   "execution_count": 47,
   "metadata": {},
   "outputs": [
    {
     "name": "stdout",
     "output_type": "stream",
     "text": [
      "mse: 1.875\n"
     ]
    }
   ],
   "source": [
    "#2.b.le calcul de mse pour (w0=0,w1=0.5) basé sur ma propre fonction\n",
    "find_mse(X,0.5)"
   ]
  },
  {
   "cell_type": "code",
   "execution_count": 48,
   "metadata": {},
   "outputs": [
    {
     "name": "stdout",
     "output_type": "stream",
     "text": [
      "mse: 0.0\n"
     ]
    }
   ],
   "source": [
    "#2.b.le calcul de mse pour (w0=0,w1=1) basé sur ma propre fonction\n",
    "find_mse(X,1)"
   ]
  },
  {
   "cell_type": "code",
   "execution_count": 49,
   "metadata": {},
   "outputs": [],
   "source": [
    "#2.b.le calcul de mse basé sur sklearn\n",
    "from sklearn.metrics import mean_squared_error\n",
    "def mseSklearn(w0):\n",
    "    w1=0\n",
    "    y_predicted=w0*X+w1\n",
    "    return mean_squared_error(y_real,y_predicted)"
   ]
  },
  {
   "cell_type": "code",
   "execution_count": 50,
   "metadata": {},
   "outputs": [
    {
     "data": {
      "text/plain": [
       "7.5"
      ]
     },
     "execution_count": 50,
     "metadata": {},
     "output_type": "execute_result"
    }
   ],
   "source": [
    "#2.b.le calcul de mse pour (w0=0,w1=0) basé sur sklearn\n",
    "mseSklearn(0)"
   ]
  },
  {
   "cell_type": "code",
   "execution_count": 51,
   "metadata": {},
   "outputs": [
    {
     "data": {
      "text/plain": [
       "1.875"
      ]
     },
     "execution_count": 51,
     "metadata": {},
     "output_type": "execute_result"
    }
   ],
   "source": [
    "#2.b.le calcul de mse pour (w0=0,w1=0.5) basé sur sklearn\n",
    "mseSklearn(0.5)"
   ]
  },
  {
   "cell_type": "code",
   "execution_count": 52,
   "metadata": {},
   "outputs": [
    {
     "data": {
      "text/plain": [
       "0.0"
      ]
     },
     "execution_count": 52,
     "metadata": {},
     "output_type": "execute_result"
    }
   ],
   "source": [
    "#2.b.le calcul de mse pour (w0=0,w1=1) basé sur sklearn\n",
    "mseSklearn(1)"
   ]
  },
  {
   "cell_type": "code",
   "execution_count": 58,
   "metadata": {},
   "outputs": [
    {
     "name": "stdout",
     "output_type": "stream",
     "text": [
      "w1: 0, mse: 7.5\n",
      "w1: 0.5, mse: 1.875\n",
      "w1: 1.0, mse: 0.0\n"
     ]
    }
   ],
   "source": [
    "#2.c.traçage de graphe qui visualise mse en fonction de w1 pour (w1=0,w1=0.5,w1=1)\n",
    "def findW(X):\n",
    "    n_iterations=3\n",
    "    w0=0 \n",
    "    w1=0 #initialization\n",
    "    list_w=[]\n",
    "    list_mse=[]\n",
    "    for i in range(n_iterations):\n",
    "        y_predicted=w1*X+w0\n",
    "        mean_squared_error=(1/X.size)*np.sum(np.square(y_predicted-y_real))\n",
    "        print(\"w1: {}, mse: {}\".format(w1,mean_squared_error))\n",
    "        list_w.append(w1)\n",
    "        list_mse.append(mean_squared_error)\n",
    "        w1=w1+0.5\n",
    "    return list_w,list_mse\n",
    "        \n",
    "list_w,liste_mse=findW(X)\n",
    "\n"
   ]
  },
  {
   "cell_type": "code",
   "execution_count": 60,
   "metadata": {},
   "outputs": [
    {
     "data": {
      "text/plain": [
       "[<matplotlib.lines.Line2D at 0x294cba232e0>]"
      ]
     },
     "execution_count": 60,
     "metadata": {},
     "output_type": "execute_result"
    },
    {
     "data": {
      "image/png": "[encoded data removed]",
      "text/plain": [
       "<Figure size 432x288 with 1 Axes>"
      ]
     },
     "metadata": {
      "needs_background": "light"
     },
     "output_type": "display_data"
    }
   ],
   "source": [
    "import matplotlib.pyplot as plt\n",
    "plt.plot(list_w,liste_mse)\n",
    "plt.plot(list_w,liste_mse,\"ro\")\n"
   ]
  },
  {
   "cell_type": "code",
   "execution_count": 100,
   "metadata": {},
   "outputs": [
    {
     "name": "stdout",
     "output_type": "stream",
     "text": [
      "[0.  0.1 0.2 0.3 0.4 0.5 0.6 0.7 0.8 0.9 1.  1.1 1.2 1.3 1.4 1.5 1.6 1.7\n",
      " 1.8 1.9 2.  2.1 2.2 2.3 2.4 2.5 2.6 2.7 2.8 2.9 3.  3.1 3.2 3.3 3.4 3.5\n",
      " 3.6 3.7 3.8 3.9]\n"
     ]
    }
   ],
   "source": [
    "L1=np.arange(0,4,0.1)\n",
    "print(L1)"
   ]
  },
  {
   "cell_type": "code",
   "execution_count": 113,
   "metadata": {},
   "outputs": [
    {
     "data": {
      "text/plain": [
       "[<matplotlib.lines.Line2D at 0x294ce5b3a90>]"
      ]
     },
     "execution_count": 113,
     "metadata": {},
     "output_type": "execute_result"
    },
    {
     "data": {
      "image/png": "[encoded data removed]",
      "text/plain": [
       "<Figure size 432x288 with 1 Axes>"
      ]
     },
     "metadata": {
      "needs_background": "light"
     },
     "output_type": "display_data"
    }
   ],
   "source": [
    "#2.e.traçage de graphe qui visualise mse en fonction de w1=L[i]\n",
    "def find_mse(X,L):\n",
    "    list_mse=[]\n",
    "    for i in range(len(L)):\n",
    "        w0=0 #initialization\n",
    "        w1=L1[i]\n",
    "        y_predicted=w1*X+w0\n",
    "        mean_squared_error=(1/X.size)*np.sum(np.square(y_predicted-y_real))\n",
    "        list_mse.append(mean_squared_error)\n",
    "    return list_mse\n",
    "        \n",
    "list_mse=find_mse(X,L1)\n",
    "plt.plot(L1,list_mse)\n",
    "plt.plot(L1,list_mse,\"ro\")"
   ]
  },
  {
   "cell_type": "code",
   "execution_count": 114,
   "metadata": {},
   "outputs": [
    {
     "name": "stdout",
     "output_type": "stream",
     "text": [
      "[1.5 1.6 1.7 1.8 1.9 2.  2.1 2.2 2.3 2.4 2.5 2.6 2.7 2.8 2.9 3.  3.1 3.2\n",
      " 3.3 3.4 3.5 3.6 3.7 3.8 3.9 4.  4.1 4.2 4.3 4.4 4.5 4.6 4.7 4.8 4.9 5.\n",
      " 5.1 5.2 5.3 5.4 5.5 5.6 5.7 5.8 5.9]\n"
     ]
    }
   ],
   "source": [
    "#2.f.nous avons réçu un graphe convexe avec un minimum\n",
    "#2.g.traçage de mse avec L2\n",
    "L2=np.arange(1.5,6,0.1)\n",
    "print(L2)"
   ]
  },
  {
   "cell_type": "code",
   "execution_count": 115,
   "metadata": {},
   "outputs": [
    {
     "data": {
      "text/plain": [
       "[<matplotlib.lines.Line2D at 0x294ce605f70>]"
      ]
     },
     "execution_count": 115,
     "metadata": {},
     "output_type": "execute_result"
    },
    {
     "data": {
      "image/png": "[encoded data removed]",
      "text/plain": [
       "<Figure size 432x288 with 1 Axes>"
      ]
     },
     "metadata": {
      "needs_background": "light"
     },
     "output_type": "display_data"
    }
   ],
   "source": [
    "list_mse=find_mse(X,L2)\n",
    "plt.plot(L2,list_mse)\n",
    "plt.plot(L2,list_mse,\"ro\")\n"
   ]
  },
  {
   "cell_type": "code",
   "execution_count": 116,
   "metadata": {},
   "outputs": [],
   "source": [
    "#2.g.conclusion: il y a une difference entre le tracage de L1 et L2 \n",
    "#2.g.la différence entre L1 et L2 vis-à-vis la variation de mse c'est que le nombre d'itération "
   ]
  },
  {
   "cell_type": "code",
   "execution_count": 122,
   "metadata": {},
   "outputs": [
    {
     "data": {
      "text/plain": [
       "[<matplotlib.lines.Line2D at 0x294cfec5d90>]"
      ]
     },
     "execution_count": 122,
     "metadata": {},
     "output_type": "execute_result"
    },
    {
     "data": {
      "image/png": "[encoded data removed]",
      "text/plain": [
       "<Figure size 432x288 with 1 Axes>"
      ]
     },
     "metadata": {
      "needs_background": "light"
     },
     "output_type": "display_data"
    }
   ],
   "source": [
    "#2.e.traçage de graphe qui visualise mse en fonction de w1 pour un nombre d'itération=21\n",
    "def findW(X):\n",
    "    #L1=np.arange(0,4,0.1)\n",
    "    n_iterations=21\n",
    "    w0=0 \n",
    "    w1=0 #initialization\n",
    "    list_w=[]\n",
    "    list_mse=[]\n",
    "    for i in range(n_iterations):\n",
    "        y_predicted=w1*X+w0\n",
    "        mean_squared_error=(1/X.size)*np.sum(np.square(y_predicted-y_real))\n",
    "        list_w.append(w1)\n",
    "        list_mse.append(mean_squared_error)\n",
    "        w1=w1+0.1\n",
    "    return list_w,list_mse\n",
    "list_w,liste_mse=findW(X)\n",
    "plt.plot(list_w,liste_mse)\n",
    "plt.plot(list_w,liste_mse,\"ro\")"
   ]
  },
  {
   "cell_type": "code",
   "execution_count": null,
   "metadata": {},
   "outputs": [],
   "source": [
    "\n"
   ]
  },
  {
   "cell_type": "code",
   "execution_count": null,
   "metadata": {},
   "outputs": [],
   "source": [
    "\n"
   ]
  }
 ],
 "metadata": {
  "kernelspec": {
   "display_name": "Python 3",
   "language": "python",
   "name": "python3"
  },
  "language_info": {
   "codemirror_mode": {
    "name": "ipython",
    "version": 3
   },
   "file_extension": ".py",
   "mimetype": "text/x-python",
   "name": "python",
   "nbconvert_exporter": "python",
   "pygments_lexer": "ipython3",
   "version": "3.8.3"
  }
 },
 "nbformat": 4,
 "nbformat_minor": 4
}
